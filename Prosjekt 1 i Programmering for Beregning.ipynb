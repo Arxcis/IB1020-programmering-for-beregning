{
 "cells": [
  {
   "cell_type": "markdown",
   "id": "4c5cb621",
   "metadata": {},
   "source": [
    "# Prosjekt 1 i Programmering for Beregning \n",
    "*av Jonas Johan Solsvik <br>\n",
    "ved USN Porsgrunn 23H*"
   ]
  },
  {
   "cell_type": "markdown",
   "id": "d892ea16",
   "metadata": {},
   "source": [
    "### Oppg 1)\n",
    "\n",
    "Du skal her lage et program som skal starte med:\n",
    "```py\n",
    "fodselsar = int(input(\"Hvilket år er du født?: \"))\n",
    "```\n",
    "Programmet skal så regne ut hvor gammel personen blir nå i løpet av år 2022 og skrive\n",
    "svaret til skjerm med passende tekst.\n",
    "\n",
    "#### Mattesvar:\n",
    "$alder = gjeldende\\ år - fødselsår$\n",
    "\n",
    "#### Kodesvar:"
   ]
  },
  {
   "cell_type": "code",
   "execution_count": 4,
   "id": "efacf4f9",
   "metadata": {},
   "outputs": [
    {
     "name": "stdout",
     "output_type": "stream",
     "text": [
      "Hvilket år er du født?: 234\n",
      "\n",
      "Du er 1788 år gammel!\n"
     ]
    }
   ],
   "source": [
    "fodselsar = int(input(\"Hvilket år er du født?: \"))\n",
    "gjeldende_ar = 2022\n",
    "alder = gjeldende_ar - fodselsar\n",
    "\n",
    "print(f\"\\nDu er {alder} år gammel!\")"
   ]
  },
  {
   "cell_type": "markdown",
   "id": "c3d83e83",
   "metadata": {},
   "source": [
    "### Oppg 2) \n",
    "\n",
    "Det skal arrangeres en klassefest og man antar at hver elev spiser 1/4 pizza. Lag et program som tar inn antall elever fra konsollen ved:\n",
    "```py\n",
    "antall_elever = int(input('Skriv inn antall elever: ' ))\n",
    "```\n",
    "Programmet skal så regne ut hvor mange pizzaer som skal handles inn til festen og skrive svaret til skjerm. Merk, man kan ikke kjøpe 4 og en halv pizza på butikken (da må man kjøpe 5).\n",
    "\n",
    "#### Mattesvar:\n",
    "$antall\\ pizza = \\lceil antall\\ elever \\cdot \\frac{1}{4}\\rceil$\n",
    "\n",
    "```py\n",
    "math.ceil(antall_elever * 1/4)\n",
    "```\n",
    "\n",
    "#### Kodesvar:"
   ]
  },
  {
   "cell_type": "code",
   "execution_count": 4,
   "id": "d6601e6c",
   "metadata": {},
   "outputs": [
    {
     "name": "stdout",
     "output_type": "stream",
     "text": [
      "Skriv inn antall elever: 34343\n",
      "\n",
      "Det må handles inn 8586 pizza til festen!\n"
     ]
    }
   ],
   "source": [
    "import math\n",
    "\n",
    "antall_elever = int(input('Skriv inn antall elever: ' ))\n",
    "antall_pizza = math.ceil(antall_elever * 1/4)\n",
    "\n",
    "print(f\"\\nDet må handles inn {antall_pizza} pizza til festen!\")"
   ]
  },
  {
   "cell_type": "markdown",
   "id": "8fb46339",
   "metadata": {},
   "source": [
    "### Oppg 3) \n",
    "\n",
    "Lag et program med en funksjon som regner om fra grader til radianer.\n",
    "Programmet skal starte med:\n",
    "```py\n",
    "import numpy as np\n",
    "v_g = float(input('Skriv inn gradtallet:' ))\n",
    "```\n",
    "Radiantallet til vinkelen regnes så ut ved følgende formel:\n",
    "```py\n",
    "v_r = v_g*np.pi/180\n",
    "```\n",
    "\n",
    "Resultatet skrives til skjerm med passende tekst og verdi.\n",
    "Merk: `np.pi` er en ferdiglaget funksjon som gir verdien `3.1415....`\n",
    "\n",
    "#### Mattesvar:\n",
    "\n",
    "$radianer = grader \\cdot \\frac{\\pi}{180}$\n",
    "```py\n",
    "grader * np.pi / 180\n",
    "```\n",
    "\n",
    "#### Kodesvar:"
   ]
  },
  {
   "cell_type": "code",
   "execution_count": 11,
   "id": "bc8e4820",
   "metadata": {},
   "outputs": [
    {
     "name": "stdout",
     "output_type": "stream",
     "text": [
      "Skriv inn gradtallet: 180\n",
      "\n",
      "= 3.1416 rad\n"
     ]
    }
   ],
   "source": [
    "import numpy as np\n",
    "\n",
    "grader = float(input('Skriv inn gradtallet: ' ))\n",
    "radianer = grader * np.pi / 180\n",
    "\n",
    "print(f\"\\n= {radianer:.4f} rad\")"
   ]
  },
  {
   "cell_type": "markdown",
   "id": "1999eb97",
   "metadata": {},
   "source": [
    "### Oppg 4)\n",
    "\n",
    "Lag et program med en funksjon som tar `a` og `b` som inn-argumenter og som så regner ut `arealet` og `ytre omkrets` til en figur satt sammen av en rettvinklet trekant og en halvsirkel, se figuren under. Med «ytre» omkrets menes samlet lengde av de sorte strekene. Funksjonen skal returnere arealet og «ytre» omkrets, som så skrives til skjerm med passende tekst.\n",
    "\n",
    "![image-2.png](./prosjekt1-oppg4.png)\n",
    "\n",
    "#### Mattesvar:\n",
    "\n",
    "$Areal\\ halvsirkel = \\pi r^{2} \\cdot \\frac{1}{2}$<br>\n",
    "```py\n",
    "math.pi*r**2 * 0.5\n",
    "```\n",
    "$Areal\\ \\Delta = \\frac{g \\cdot h}{2}$\n",
    "```py\n",
    "g*h * 0.5\n",
    "```\n",
    "$Omkrets\\ halvsirkel = 2\\pi r \\cdot \\frac{1}{2}$\n",
    "```py\n",
    "2*math.pi*r * 0.5\n",
    "```\n",
    "$Ytre\\ omkrets\\ \\Delta = b + \\sqrt{a^{2} + b^{2}}$\n",
    "```py\n",
    "b + (a**2 + b**2)**0.5\n",
    "```\n",
    "\n",
    "#### Kodesvar:"
   ]
  },
  {
   "cell_type": "code",
   "execution_count": 2,
   "id": "068f945b",
   "metadata": {},
   "outputs": [
    {
     "name": "stdout",
     "output_type": "stream",
     "text": [
      "a (cm): 20\n",
      "b (cm): 20\n",
      "\n",
      "Areal:            357.1cm^2\n",
      "Ytre omkrets:      79.7cm\n"
     ]
    }
   ],
   "source": [
    "import math\n",
    "\n",
    "a = int(input(\"a (cm): \"))\n",
    "b = int(input(\"b (cm): \"))\n",
    "r = a / 2\n",
    "areal = (math.pi*r**2 * 0.5) + (a*b * 0.5)\n",
    "ytre_omkrets = (2*math.pi*r * 0.5) + (b + (a**2 + b**2)**0.5)\n",
    "\n",
    "print(f\"\\n{'Areal:':<13} {areal:>9.1f}cm^2\")\n",
    "print(f\"{'Ytre omkrets:':<13} {ytre_omkrets:>9.1f}cm\")\n"
   ]
  }
 ],
 "metadata": {
  "kernelspec": {
   "display_name": "Python 3 (ipykernel)",
   "language": "python",
   "name": "python3"
  },
  "language_info": {
   "codemirror_mode": {
    "name": "ipython",
    "version": 3
   },
   "file_extension": ".py",
   "mimetype": "text/x-python",
   "name": "python",
   "nbconvert_exporter": "python",
   "pygments_lexer": "ipython3",
   "version": "3.11.4"
  }
 },
 "nbformat": 4,
 "nbformat_minor": 5
}
